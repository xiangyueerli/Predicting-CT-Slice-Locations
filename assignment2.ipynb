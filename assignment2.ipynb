{
 "cells": [
  {
   "metadata": {},
   "cell_type": "markdown",
   "source": "The patient IDs were removed from this version of the data, leaving 384 input features which were put in each of the ```“X_...”``` arrays. The corresponding CT scan slice location has been put in the ```“y_...”``` arrays. We shifted and scaled the ```“y_...”``` location values for the version of the data that you are using. The shift and scaling was chosen to make the training locations have zero mean and unit variance. The first 73 patients were put in the ```_train``` arrays, the next 12 in the ```_val``` arrays, and the final 12 in the ```_test``` arrays. Please use this training, validation, test split as given. **Do not shuffle the data further in this assignment.**",
   "id": "80d738e442702dbb"
  },
  {
   "metadata": {},
   "cell_type": "markdown",
   "source": "## Task 1: Get Started",
   "id": "6bcb47a17c3b9be7"
  },
  {
   "metadata": {
    "ExecuteTime": {
     "end_time": "2024-11-28T22:54:20.223103Z",
     "start_time": "2024-11-28T22:54:18.593561Z"
    }
   },
   "cell_type": "code",
   "source": [
    "from support_code import *\n",
    "import numpy as np\n",
    "data = np.load('ct_data.npz')\n",
    "X_train = data['X_train']; X_val = data['X_val']; X_test = data['X_test']\n",
    "y_train = data['y_train']; y_val = data['y_val']; y_test = data['y_test']"
   ],
   "id": "cc83d45f07a20002",
   "outputs": [],
   "execution_count": 1
  },
  {
   "metadata": {},
   "cell_type": "markdown",
   "source": "Verify that (up to numerical rounding errors) the mean of the training positions in ```y_train``` is zero. The mean of the 5,785 positions in the ```y_val``` array is not zero. Report its mean with a “standard error”, temporarily assuming that each entry is independent. For comparison, also report the mean with a standard error of the first 5,785 entries in the ```y_train```. Explain how your results demonstrate that these standard error bars do not reliably indicate what the average of locations in future CT slice data will be. Why are standard error bars misleading here?",
   "id": "8b7423faf66959d7"
  },
  {
   "metadata": {
    "ExecuteTime": {
     "end_time": "2024-11-28T22:54:20.247807Z",
     "start_time": "2024-11-28T22:54:20.240308Z"
    }
   },
   "cell_type": "code",
   "source": [
    "# Calculate mean and standard error for y_train\n",
    "y_train_mean = np.mean(y_train)\n",
    "y_train_std_error = np.std(y_train, ddof=1) / np.sqrt(len(y_train))\n",
    "\n",
    "# Calculate mean and standard error for the first 5,785 entries in y_train\n",
    "y_train_sample_mean = np.mean(y_train[:5785])\n",
    "y_train_sample_std_error = np.std(y_train[:5785], ddof=1) / np.sqrt(5785)\n",
    "\n",
    "# Calculate mean and standard error for y_val\n",
    "y_val_mean = np.mean(y_val)\n",
    "y_val_std_error = np.std(y_val, ddof=1) / np.sqrt(len(y_val))\n",
    "\n",
    "y_train_mean, y_train_std_error, y_train_sample_mean, y_train_sample_std_error, y_val_mean, y_val_std_error"
   ],
   "id": "57108587bc884c50",
   "outputs": [
    {
     "data": {
      "text/plain": [
       "(-9.13868774539957e-15,\n",
       " 0.0049535309340638205,\n",
       " -0.44247687859693674,\n",
       " 0.011927303389170828,\n",
       " -0.2160085093241599,\n",
       " 0.01290449880016868)"
      ]
     },
     "execution_count": 2,
     "metadata": {},
     "output_type": "execute_result"
    }
   ],
   "execution_count": 2
  },
  {
   "metadata": {},
   "cell_type": "markdown",
   "source": [
    "Some of the input features are constants: they take on the same value for every training example. Identify these features, and remove them from the input matrices in the training, validation, and testing sets.\n",
    "\n",
    "Moreover, some of the input features are duplicates: some of the columns in the training set are identical. For each training set column, discard any later columns that are identical. Discard the same columns from the validation and testing sets.\n",
    "\n",
    "**Use these modified input arrays for the rest of the assignment.** Keep the names of the arrays the same (X_train, etc.), so we know what they’re called. You should not duplicate the code from this part in future questions. We will assume it has been run, and that the modified data are available.\n",
    "\n",
    "**Warning: As in the real world, mistakes at this stage would invalidate all of your results. We strongly recommend checking your code, for example on small test examples where you can see what it’s doing.**\n",
    "\n",
    "Report which columns of the X_... arrays you remove at each of the two stages. Report these as 0-based indexes. (For the second stage, you might report indexes in the original array, or after you did the first stage. It doesn’t matter, as long as your code is clear and correct.)"
   ],
   "id": "4d17bcaf6c45c429"
  },
  {
   "metadata": {
    "ExecuteTime": {
     "end_time": "2024-11-28T22:54:20.660221Z",
     "start_time": "2024-11-28T22:54:20.289693Z"
    }
   },
   "cell_type": "code",
   "source": [
    "# Step 1: Identify and remove constant columns\n",
    "constant_columns = [i for i in range(X_train.shape[1]) if np.all(X_train[:, i] == X_train[0, i])]\n",
    "X_train = np.delete(X_train, constant_columns, axis=1)\n",
    "X_val = np.delete(X_val, constant_columns, axis=1)\n",
    "X_test = np.delete(X_test, constant_columns, axis=1)\n",
    "\n",
    "# Step 2: Identify and remove duplicate columns\n",
    "_, unique_indices = np.unique(X_train, axis=1, return_index=True)\n",
    "duplicate_columns = [i for i in range(X_train.shape[1]) if i not in unique_indices]\n",
    "X_train = np.delete(X_train, duplicate_columns, axis=1)\n",
    "X_val = np.delete(X_val, duplicate_columns, axis=1)\n",
    "X_test = np.delete(X_test, duplicate_columns, axis=1)\n",
    "\n",
    "# Report columns removed in each stage\n",
    "print(\"Constant columns removed:\", constant_columns)\n",
    "print(\"Duplicate columns removed:\", duplicate_columns)"
   ],
   "id": "d70de25576b49fa7",
   "outputs": [
    {
     "name": "stdout",
     "output_type": "stream",
     "text": [
      "Constant columns removed: [59, 69, 179, 189, 351]\n",
      "Duplicate columns removed: [76, 77, 185, 195, 283, 354]\n"
     ]
    }
   ],
   "execution_count": 3
  },
  {
   "metadata": {},
   "cell_type": "markdown",
   "source": [
    "# Task 2: Linear Regression Baseline\n",
    "Using ```numpy.linalg.lstsq```, write a short function “fit_linreg(X, yy, alpha)” that fits the linear regression model\n",
    "$$f(\\b x;\\b w,b) = \\b w^\\top\\b x + b,$$\n",
    "by minimizing the cost function:\n",
    "$$E(\\b w, b) = \\alpha\\b w^\\top\\b w + \\sum_n (f(\\b x^{(n)};\\b w,b) - y^{(n)})^2,$$\n",
    "with regularization constant $\\alpha$. As discussed in the lecture materials, fitting a bias parameter $b$ and incorporating the regularization constant can both be achieved by augmenting the original data arrays. Use a data augmentation approach that maintains the numerical stability of the underlying ```lstsq``` solver, rather than a ‘normal equations’ approach. You should only regularize the weights $\\textbf{w}$ and not the bias $b$.\n",
    "\n",
    "(In the lecture materials we used $\\lambda$ for the regularization constant, matching Murphy and others. However, lambda is a reserved word in Python, so we swapped to ```alpha``` for our code.)\n",
    "\n",
    "Use your function to fit weights and a bias to ```X_train``` and ```y_train```. Use $\\alpha = 30$.\n",
    "\n",
    "We can fit the same model with a gradient-based optimizer. The support code has a function ```fit_linreg_gradopt```, which you should look at and try.\n",
    "\n",
    "Report the root-mean-square errors (RMSE) on the training and validation sets for the parameters fitted using both your ```fit_linreg``` and the provided ```fit_linreg_gradopt```. Do you get exactly the same results? Why or why not?"
   ],
   "id": "6d38b97189a563d7"
  },
  {
   "metadata": {
    "ExecuteTime": {
     "end_time": "2024-11-28T23:32:24.121490Z",
     "start_time": "2024-11-28T23:32:24.108081Z"
    }
   },
   "cell_type": "code",
   "source": [
    "def fit_linreg(X, yy, alpha):\n",
    "    N, D = X.shape\n",
    "    \n",
    "    # construct phi\n",
    "    phi = np.concatenate([X, np.ones((N, 1))], axis=1) \n",
    "    identity_matrix = np.eye(D + 1)\n",
    "    identity_matrix[-1, -1] = 0\n",
    "    phi = np.concatenate([phi, np.sqrt(alpha) * identity_matrix])\n",
    "    \n",
    "    # construct Y\n",
    "    Y = np.concatenate([yy, np.zeros(D + 1)])\n",
    "    \n",
    "    w = np.linalg.lstsq(phi, Y[:, np.newaxis], rcond=None)[0]\n",
    "    \n",
    "    return w[:-1, 0], w[-1, 0]\n",
    "\n",
    "# no penality\n",
    "def fit_linreg_no_penality(X, yy):\n",
    "    N, D = X.shape\n",
    "    \n",
    "    # construct phi\n",
    "    phi = np.concatenate([X, np.ones((N, 1))], axis=1) \n",
    "    \n",
    "    w = np.linalg.lstsq(phi, yy[:, np.newaxis], rcond=None)[0]\n",
    "    \n",
    "    return w[:-1, 0], w[-1, 0]\n",
    "\n",
    "def rmse(y_true, y_pred):\n",
    "    return np.sqrt(np.mean((y_true - y_pred) ** 2))"
   ],
   "id": "ff68c9e975e4f7ea",
   "outputs": [],
   "execution_count": 47
  },
  {
   "metadata": {
    "ExecuteTime": {
     "end_time": "2024-11-28T23:41:59.296915Z",
     "start_time": "2024-11-28T23:41:59.293973Z"
    }
   },
   "cell_type": "code",
   "source": [
    "num = 100\n",
    "\n",
    "X_train, y_train, X_val, y_val = X_train[:num, :], y_train[:num], X_val[:num, :], y_val[:num] "
   ],
   "id": "51a079ef0b6cec71",
   "outputs": [],
   "execution_count": 67
  },
  {
   "metadata": {
    "ExecuteTime": {
     "end_time": "2024-11-28T23:42:29.146707Z",
     "start_time": "2024-11-28T23:42:29.095082Z"
    }
   },
   "cell_type": "code",
   "source": [
    "# l2\n",
    "w_l2, b_l2 = fit_linreg(X_train, y_train, alpha=30)\n",
    "\n",
    "y_pred_train_l2 = X_train @ w_l2 + b_l2\n",
    "y_pred_val_l2 = X_val @ w_l2 + b_l2\n",
    "\n",
    "rmse(y_train, y_pred_train_l2), rmse(y_val, y_pred_val_l2)"
   ],
   "id": "a4194e3e1639fe73",
   "outputs": [
    {
     "data": {
      "text/plain": [
       "(0.010091384142176389, 1.1043431009090676)"
      ]
     },
     "execution_count": 68,
     "metadata": {},
     "output_type": "execute_result"
    }
   ],
   "execution_count": 68
  },
  {
   "metadata": {
    "ExecuteTime": {
     "end_time": "2024-11-28T23:42:29.444618Z",
     "start_time": "2024-11-28T23:42:29.426866Z"
    }
   },
   "cell_type": "code",
   "source": [
    "# no penality\n",
    "w_n, b_n = fit_linreg_no_penality(X_train, y_train)\n",
    "\n",
    "y_pred_train_n = X_train @ w_n + b_n\n",
    "y_pred_val_n = X_val @ w_n + b_n\n",
    "\n",
    "rmse(y_train, y_pred_train_n), rmse(y_val, y_pred_val_n)"
   ],
   "id": "86816be454620ee2",
   "outputs": [
    {
     "data": {
      "text/plain": [
       "(4.6182709027821955e-15, 0.8805268391069184)"
      ]
     },
     "execution_count": 69,
     "metadata": {},
     "output_type": "execute_result"
    }
   ],
   "execution_count": 69
  },
  {
   "metadata": {
    "ExecuteTime": {
     "end_time": "2024-11-28T23:42:29.861635Z",
     "start_time": "2024-11-28T23:42:29.845491Z"
    }
   },
   "cell_type": "code",
   "source": [
    "# use gd\n",
    "from support_code import *\n",
    "w_gd, b_gd = fit_linreg_gradopt(X_train, y_train, alpha=5.6)\n",
    "\n",
    "y_pred_train_gd = X_train @ w_gd + b_gd\n",
    "y_pred_val_gd = X_val @ w_gd + b_gd\n",
    "\n",
    "rmse(y_train, y_pred_train_gd), rmse(y_val, y_pred_val_gd)"
   ],
   "id": "80a988914e1ca8ac",
   "outputs": [
    {
     "data": {
      "text/plain": [
       "(0.0036782257636126603, 1.103882346686941)"
      ]
     },
     "execution_count": 70,
     "metadata": {},
     "output_type": "execute_result"
    }
   ],
   "execution_count": 70
  },
  {
   "metadata": {
    "ExecuteTime": {
     "end_time": "2024-11-28T23:42:30.341431Z",
     "start_time": "2024-11-28T23:42:30.266816Z"
    }
   },
   "cell_type": "code",
   "source": [
    "# training curves: comparison between y and y_pred\n",
    "import matplotlib.pyplot as plt\n",
    "\n",
    "plt.plot(y_pred_train_l2[:num], 'b')\n",
    "plt.plot(y_pred_train_n[:num], 'r')\n",
    "plt.plot(y_pred_train_gd[:num], 'y')\n",
    "\n",
    "plt.plot(y_train[:num], 'x')"
   ],
   "id": "55f709a15e467f19",
   "outputs": [
    {
     "data": {
      "text/plain": [
       "[<matplotlib.lines.Line2D at 0x174b9e310>]"
      ]
     },
     "execution_count": 71,
     "metadata": {},
     "output_type": "execute_result"
    },
    {
     "data": {
      "text/plain": [
       "<Figure size 640x480 with 1 Axes>"
      ],
      "image/png": "[encoded data removed]"
     },
     "metadata": {},
     "output_type": "display_data"
    }
   ],
   "execution_count": 71
  },
  {
   "metadata": {
    "ExecuteTime": {
     "end_time": "2024-11-28T23:42:31.124474Z",
     "start_time": "2024-11-28T23:42:31.055891Z"
    }
   },
   "cell_type": "code",
   "source": [
    "# val curves\n",
    "import matplotlib.pyplot as plt\n",
    "\n",
    "plt.plot(y_pred_val_l2[:num], 'b')\n",
    "plt.plot(y_pred_val_n[:num], 'r')\n",
    "plt.plot(y_pred_val_gd[:num], 'y')\n",
    "\n",
    "plt.plot(y_val[:num], 'x')"
   ],
   "id": "7363a01ccb41b801",
   "outputs": [
    {
     "data": {
      "text/plain": [
       "[<matplotlib.lines.Line2D at 0x174c16eb0>]"
      ]
     },
     "execution_count": 72,
     "metadata": {},
     "output_type": "execute_result"
    },
    {
     "data": {
      "text/plain": [
       "<Figure size 640x480 with 1 Axes>"
      ],
      "image/png": "[encoded data removed]"
     },
     "metadata": {},
     "output_type": "display_data"
    }
   ],
   "execution_count": 72
  },
  {
   "metadata": {},
   "cell_type": "markdown",
   "source": "# Task 3: Invented classification tasks",
   "id": "fd461284c017b153"
  },
  {
   "metadata": {},
   "cell_type": "markdown",
   "source": [
    "It is often easier to work with binary data than real-valued data: we don’t have to think so hard about how the values might be distributed, and how we might process them. We will invent some binary classification tasks, and fit these.\n",
    "\n",
    "We will pick 20 positions within the range of training positions, and use each of these to define a classification task:"
   ],
   "id": "8c395d22b7929952"
  },
  {
   "metadata": {
    "ExecuteTime": {
     "end_time": "2024-11-17T20:52:23.604587Z",
     "start_time": "2024-11-17T20:52:23.601424Z"
    }
   },
   "cell_type": "code",
   "source": [
    "K = 20 # number of thresholded classification problems to fit\n",
    "mx = np.max(y_train); mn = np.min(y_train); hh = (mx-mn)/(K+1)\n",
    "thresholds = np.linspace(mn+hh, mx-hh, num=K, endpoint=True)\n",
    "for kk in range(K):\n",
    "    labels = y_train > thresholds[kk]\n",
    "    # ... fit logistic regression to these labels"
   ],
   "id": "d2e2bc44ef4aaa2c",
   "outputs": [],
   "execution_count": 7
  },
  {
   "metadata": {},
   "cell_type": "markdown",
   "source": [
    "The logistic regression cost function and gradients are provided with the assignment in the function ```logreg_cost```. It is analogous to the ```linreg_cost``` function for least-squares regression, which is used by the ```fit_linreg_gradopt``` function that you used earlier.\n",
    "\n",
    "Fit logistic regression to each of the 20 classification tasks above with $\\alpha=30$\n",
    ".\n",
    "\n",
    "Given a feature vector, we can now obtain 20 different probabilities, the predictions of the 20 logistic regression models. Transform both the training and validation input matrices into new matrices with 20 columns, containing the probabilities from the 20 logistic regression models. You don’t need to loop over the rows of ```X_train``` or ```X_val```, you can use array-based operations to make the logistic regression predictions for every datapoint at once.\n",
    "\n",
    "Fit a regularized linear regression model ($\\alpha=30$) to your transformed 20-dimensional training set. Report the training and validation root mean square errors (RMSE) of this model."
   ],
   "id": "bd34228d3979120d"
  },
  {
   "metadata": {
    "ExecuteTime": {
     "end_time": "2024-11-17T20:52:30.113348Z",
     "start_time": "2024-11-17T20:52:23.615070Z"
    }
   },
   "cell_type": "code",
   "source": [
    "def fit_logreg_gradopt(X, yy, alpha):\n",
    "    \"\"\"\n",
    "    Fit a regularized logistic regression model using gradient optimization.\n",
    "    \"\"\"\n",
    "    D = X.shape[1]\n",
    "    args = (X, yy, alpha)\n",
    "    init = (np.zeros(D), np.array(0))\n",
    "    w_logreg, b_logreg = minimize_list(logreg_cost, init, args)\n",
    "    return w_logreg, b_logreg\n",
    "\n",
    "def logreg_k(X, yy, K, alpha=30):\n",
    "    \"\"\"\n",
    "    Trains K binary logistic regression models on data using different threshold-based label splits.\n",
    "    \"\"\"\n",
    "    mx = np.max(yy); mn = np.min(yy); hh = (mx-mn)/(K+1)\n",
    "    thresholds = np.linspace(mn+hh, mx-hh, num=K, endpoint=True)\n",
    "    \n",
    "    # weights and biases for the K logistic regression models\n",
    "    w_logreg_k = np.zeros((K, X_train.shape[1]))\n",
    "    b_logreg_k = np.zeros((K))\n",
    "    \n",
    "    for kk in range(K):\n",
    "        # get binary training labels based on thresholds[kk]\n",
    "        labels = yy > thresholds[kk]\n",
    "        \n",
    "        w_logreg, b_logreg = fit_logreg_gradopt(X, labels, alpha)\n",
    "        \n",
    "        w_logreg_k[kk, :] = w_logreg\n",
    "        b_logreg_k[kk] = b_logreg\n",
    "    \n",
    "    return w_logreg_k, b_logreg_k\n",
    "\n",
    "def sigma(a):\n",
    "    return 1 / (1 + np.exp(-a))\n",
    "\n",
    "K = 20 # number of thresholded classification problems to fit\n",
    "\n",
    "# Transform both the training and validation input matrices into new matrices with K columns\n",
    "w_logreg_k, b_logreg_k = logreg_k(X_train, y_train, K)\n",
    "X_train_new = sigma(X_train @ w_logreg_k.T + b_logreg_k)\n",
    "X_val_new = sigma(X_val @ w_logreg_k.T + b_logreg_k)\n",
    "\n",
    "\n",
    "w_linreg, b_linreg = fit_linreg_gradopt(X_train_new, y_train, alpha=30)\n",
    "\n",
    "pred_train = X_train_new @ w_linreg + b_linreg\n",
    "pred_val = X_val_new @ w_linreg + b_linreg\n",
    "\n",
    "rmse_train_gd = rmse(y_train, pred_train)\n",
    "rmse_val_gd = rmse(y_val, pred_val)\n",
    "\n",
    "print('Training RMSE:', rmse_train_gd)\n",
    "print('Validation RMSE:', rmse_val_gd)"
   ],
   "id": "ccb7c0a83002863b",
   "outputs": [
    {
     "name": "stdout",
     "output_type": "stream",
     "text": [
      "Training RMSE: 0.1544116271864011\n",
      "Validation RMSE: 0.25425057185503463\n"
     ]
    }
   ],
   "execution_count": 8
  },
  {
   "metadata": {},
   "cell_type": "markdown",
   "source": "# Task 4: Small neural network",
   "id": "42fa05525cc4f385"
  },
  {
   "metadata": {},
   "cell_type": "markdown",
   "source": [
    "In Question 3 you fitted a small neural network. The logistic regression classifiers are sigmoidal hidden units, and a linear output unit predicts the outputs. However, you didn’t fit the parameters jointly to the obvious least squares cost function. A least squares cost function and gradients for this neural network are implemented in the nn_cost function provided.\n",
    "\n",
    "Try fitting the neural network model to the training set, with a) a sensible random initialization of the parameters; b) the parameters initialized using the fits made in Q3.\n",
    "\n",
    "Does one initialization strategy work better than the other? Does fitting the neural network jointly work better than the procedure in Q3? Your explanation should include any numbers that your answer is based on.\n"
   ],
   "id": "281ce45609a50138"
  },
  {
   "metadata": {
    "ExecuteTime": {
     "end_time": "2024-11-17T21:46:50.534410Z",
     "start_time": "2024-11-17T21:45:53.689504Z"
    }
   },
   "cell_type": "code",
   "source": [
    "np.random.seed(42)\n",
    "\n",
    "K = 20\n",
    "D = X_train.shape[1]\n",
    "alpha = 30\n",
    "\n",
    "\n",
    "def fit_nn_gradopt(X, yy, alpha, init):\n",
    "    \"\"\"\n",
    "    Fit a regularized logistic regression model using gradient optimization.\n",
    "    \"\"\"\n",
    "    args = (X, yy, alpha)\n",
    "    ww, bb, V, bk = minimize_list(nn_cost, init, args)\n",
    "    return ww, bb, V, bk\n",
    "\n",
    "# Glorot Initialization\n",
    "def glorot_init(n_in, n_out):\n",
    "    limit = np.sqrt(6 / (n_in + n_out))\n",
    "    return np.random.uniform(-limit, limit, size=(n_out, n_in))\n",
    "\n",
    "def init_nn_parameter_glorot_uniform(D, K):\n",
    "    ww_init = glorot_init(K, 1).flatten()\n",
    "    bb_init = np.array(0)\n",
    "    V_init = glorot_init(D, K)\n",
    "    bk_init = np.zeros(K)\n",
    "    \n",
    "    init = (ww_init, bb_init, V_init, bk_init)\n",
    "    return init\n",
    "\n",
    "\n",
    "# the parameters initialized using the fits made in Q3.\n",
    "init = (w_linreg, b_linreg, w_logreg_k, b_logreg_k)\n",
    "params_opt = fit_nn_gradopt(X_train, y_train, alpha, init)\n",
    "\n",
    "F_train = nn_cost(params_opt, X_train)\n",
    "F_val = nn_cost(params_opt, X_val)\n",
    "rmse_train = rmse(F_train, y_train)\n",
    "rmse_val = rmse(F_val, y_val)\n",
    "print(\"Q3 Initialization:\")\n",
    "print('Training RMSE:', rmse_train)\n",
    "print('Validation RMSE:', rmse_val)\n",
    "\n",
    "\n",
    "# a sensible random initialization of the parameters: glorot uniform init.\n",
    "init = init_nn_parameter_glorot_uniform(D, K)\n",
    "params_opt_glorot = fit_nn_gradopt(X_train, y_train, alpha, init)\n",
    "\n",
    "F_train = nn_cost(params_opt_glorot, X_train)\n",
    "F_val = nn_cost(params_opt_glorot, X_val)\n",
    "rmse_train_glorot = rmse(F_train, y_train)\n",
    "rmse_val_glorot = rmse(F_val, y_val)\n",
    "print(\"Glorot Initialization:\")\n",
    "print(\"Training RMSE:\", rmse_train_glorot)\n",
    "print(\"Validation RMSE:\", rmse_val_glorot)"
   ],
   "id": "ae776f48f5f489fb",
   "outputs": [
    {
     "name": "stdout",
     "output_type": "stream",
     "text": [
      "Q3 Initialization:\n",
      "Training RMSE: 0.13983549082511781\n",
      "Validation RMSE: 0.27480328069128135\n",
      "Glorot Initialization:\n",
      "Training RMSE: 0.13845562267123937\n",
      "Validation RMSE: 0.26705014626550766\n"
     ]
    }
   ],
   "execution_count": 12
  },
  {
   "metadata": {},
   "cell_type": "markdown",
   "source": "# Task 5: Bayesian optimisation",
   "id": "13953c46396e2ca"
  },
  {
   "metadata": {},
   "cell_type": "markdown",
   "source": [
    "A popular application area of Gaussian processes is Bayesian optimisation, where the uncertainty in the probabilistic model is used to guide the optimisation of a function. Here we will use Bayesian optimisation with Gaussian processes for choosing the regularisation parameter $\\alpha$. (We would normally use Bayesian optimisation when optimizing more than one parameter.)\n",
    "\n",
    "Gaussian processes are used to represent our belief about an unknown function. In this case, the function we are interested in is the neural network’s validation log root mean square error (log RMSE) as a function of the regularisation paramter $\\alpha$. In Bayesian optimisation, it is common to maximise the unknown function, so we will maximise the negative log RMSE.\n",
    "\n",
    "We start with a Gaussian process prior over this function. As we observe the actual log RMSEs for particular $\\alpha$’s we update our belief about the function by calculating the Gaussian process posterior.\n",
    "\n",
    "Besides the Gaussian process framework that you’re already familiar with, Bayesian optimisation involves a so-called acquisition function. Given our Gaussian process posterior model, we use this function to decide which parameter to query next. The acquisition function describes how useful we think it will be to try a given $\\alpha$, while considering the uncertainty that is represented in our posterior belief.\n",
    "\n",
    "There are many popular acquisition functions in Bayesian optimisation. One example is the probability of improvement. Suppose we have observed $y^{(1)}$ to $y^{(N)}$ (here negative log RMSE at locations $\\alpha^{(1)}$ to $\\alpha^{(N)}$). Then the function takes the following form: $$\n",
    "    \\mathit{PI}(\\alpha) = \\Phi\\left(\\frac{\\mu(\\alpha) - \\text{max}(y^{(1)},\\dots,y^{N})}{\\sigma(\\alpha)}\\right),$$ where $\\mu(\\alpha)$ is the Gaussian process posterior mean at location $\\alpha$, $\\sigma(\\alpha)$ is the posterior standard deviation at location $\\alpha$, and $\\Phi$ denotes the cumulative density function of the Gaussian with mean 0 and variance 1.\n",
    "    \n",
    "We pick the next regularization constant $\\alpha^{(N+1)}$ by maximizing the acquisition function: $$\n",
    "    \\alpha^{(N+1)} = {arg\\,max}_{\\alpha}\\mathit{PI}(\\alpha).$$\n",
    "We then evaluate our model for this regularization parameter and update our posterior about the unknown function that maps $\\alpha$ to negative log RMSE. We repeat the procedure multiple times and then pick the parameter that yielded the best performance $y$.\n",
    "\n",
    "Write a function train_nn_reg that trains the neural network from Q4 for a given $\\alpha$ parameter and returns the validation RMSE.\n",
    "\n",
    "Consider $\\alpha$ on the range ```np.arange(0, 50, 0.02)```. Pick three values from this set for $\\alpha$ as training locations and use ```train_nn_reg``` on these locations. Use the remaining locations as values that you will consider with the acquisition function.\n",
    "\n",
    "Take the performance of the neural network that you trained in Q4 a) as a baseline. Subtract your $\\alpha$-observed log RMSEs from the log of this baseline and take the resulting values as $y^{(1)}$ to $y^{(3)}$. Then calculate the Gaussian process posterior for these observations. To do so, use ``gp_post_par`` from the support code. Use the default parameters for ``sigma_y``, ``ell`` and ``sigma_f``.\n",
    "\n",
    "Implement the probability of improvement acquisition function. You can use scipy.stats.norm.cdf to calculate $\\Phi$. With this acquisition function, iteratively pick new $\\alpha$’s, re-train and evaluate each new model with ```train_nn_reg``` and update your posterior with ```gp_post_par```. Do five of these iterations.\n",
    "\n",
    "Report the maximum probability of improvement together with its $\\alpha$ for each of the five iterations. Also report the best $\\alpha$ that this procedure found, and its validation and test RMSEs. Have we improved the model?\n",
    "\n",
    "In this question, the function we are optimizing is the neural network’s validation log RMSE as a function of the regularisation parameter $\\alpha$. Where is the observation noise coming from?"
   ],
   "id": "c5e4d3a866f5bd9d"
  },
  {
   "metadata": {
    "ExecuteTime": {
     "end_time": "2024-11-17T20:54:28.652309Z",
     "start_time": "2024-11-17T20:53:16.356383Z"
    }
   },
   "cell_type": "code",
   "source": [
    "def train_nn_reg(alpha, X_train, y_train, X_val, y_val):\n",
    "    K = 20\n",
    "    D = X_train.shape[1]\n",
    "\n",
    "    # Initialize parameters\n",
    "    V_init_glorot = glorot_init(D, K)\n",
    "    ww_init_glorot = glorot_init(K, 1).flatten()\n",
    "    bk_init_glorot = np.zeros(K)\n",
    "    bb_init_glorot = 0.0\n",
    "\n",
    "    params_init_glorot = [ww_init_glorot, bb_init_glorot, V_init_glorot, bk_init_glorot]\n",
    "\n",
    "    # Set optimization arguments\n",
    "    args = (X_train, y_train, alpha)\n",
    "\n",
    "    # Train the neural network\n",
    "    params_opt_glorot = minimize_list(nn_cost, params_init_glorot, args)\n",
    "\n",
    "    y_val_pred = nn_cost(params_opt_glorot, X_val)\n",
    "\n",
    "    rmse_val_glorot = rmse(y_val, y_val_pred)\n",
    "\n",
    "    return rmse_val_glorot\n",
    "\n",
    "def acquisition_function_PI(mu, sigma, y_max):\n",
    "    with np.errstate(divide='warn'):\n",
    "        Z = (mu - y_max) / sigma\n",
    "        PI_values = norm.cdf(Z)\n",
    "    return PI_values\n",
    "\n",
    "baseline_rmse = rmse(F_val, y_val) # Calculated in Q4\n",
    "baseline_log_rmse = np.log(baseline_rmse)\n",
    "\n",
    "# initial observation negative log RMSE\n",
    "np.random.seed(42)\n",
    "initial_alphas = np.random.choice(np.arange(0, 50, 0.2), size=3, replace=False)\n",
    "initial_log_rmses = [np.log(train_nn_reg(alpha, X_train, y_train, X_val, y_val)) for alpha in initial_alphas]\n",
    "initial_y = baseline_log_rmse - np.array(initial_log_rmses)\n",
    "\n",
    "print(\"Initial alphas and observed log RMSE differences (y values):\")\n",
    "for alpha, y in zip(initial_alphas, initial_y):\n",
    "    print(f\"alpha = {alpha}, y = {y}\")\n",
    "\n",
    "remaining_alphas = np.setdiff1d(np.arange(0, 50, 0.2), initial_alphas)\n",
    "rest_mu, rest_cov = gp_post_par(remaining_alphas, initial_alphas, initial_y)\n",
    "\n",
    "best_alpha = None\n",
    "best_rmse = float('inf')\n",
    "observed_alphas = list(initial_alphas)\n",
    "observed_ys = list(initial_y)\n",
    "\n",
    "for iteration in range(5):\n",
    "    # get std from posterior\n",
    "    rest_std = np.sqrt(np.diag(rest_cov))\n",
    "\n",
    "    y_max = max(observed_ys)\n",
    "\n",
    "    PI_values = acquisition_function_PI(rest_mu, rest_std, y_max)\n",
    "\n",
    "    # select alpha with max PI\n",
    "    max_PI_index = np.argmax(PI_values)\n",
    "    next_alpha = remaining_alphas[max_PI_index]\n",
    "    max_PI = PI_values[max_PI_index]\n",
    "    \n",
    "    # train_nn_reg on next alpha\n",
    "    next_rmse = train_nn_reg(next_alpha, X_train, y_train, X_val, y_val)\n",
    "    next_log_rmse = np.log(next_rmse)\n",
    "    next_y = baseline_log_rmse - next_log_rmse\n",
    "    \n",
    "    # update observed alphas and ys\n",
    "    observed_alphas.append(next_alpha)\n",
    "    observed_ys.append(next_y)\n",
    "    \n",
    "    # transform to numpy arrays\n",
    "    observed_alphas_np = np.array(observed_alphas)\n",
    "    observed_ys_np = np.array(observed_ys)\n",
    "    \n",
    "    # update GP posterior\n",
    "    rest_mu, rest_cov = gp_post_par(remaining_alphas, observed_alphas_np, observed_ys_np)\n",
    "    \n",
    "    print(f\"Iteration {iteration + 1}: max PI = {max_PI}, alpha = {next_alpha}, rmse = {next_rmse}\")\n",
    "    \n",
    "    # update best alpha\n",
    "    if next_rmse < best_rmse:\n",
    "        best_rmse = next_rmse\n",
    "        best_alpha = next_alpha\n",
    "\n",
    "print(\"\\nBest alpha found:\", best_alpha)\n",
    "print(\"Validation RMSE with best alpha:\", best_rmse)\n",
    "\n",
    "rmse_test = train_nn_reg(best_alpha, X_train, y_train, X_test, y_test)\n",
    "print(\"Test RMSE with best alpha:\", rmse_test)"
   ],
   "id": "9c11df41e423d9e4",
   "outputs": [
    {
     "name": "stdout",
     "output_type": "stream",
     "text": [
      "Initial alphas and observed log RMSE differences (y values):\n",
      "alpha = 28.400000000000002, y = 0.03277577103003004\n",
      "alpha = 1.2000000000000002, y = 0.1053879297011282\n",
      "alpha = 19.400000000000002, y = 0.018846732543706723\n"
     ]
    },
    {
     "ename": "NameError",
     "evalue": "name 'norm' is not defined",
     "output_type": "error",
     "traceback": [
      "\u001B[0;31m---------------------------------------------------------------------------\u001B[0m",
      "\u001B[0;31mNameError\u001B[0m                                 Traceback (most recent call last)",
      "Cell \u001B[0;32mIn[10], line 58\u001B[0m\n\u001B[1;32m     54\u001B[0m rest_std \u001B[38;5;241m=\u001B[39m np\u001B[38;5;241m.\u001B[39msqrt(np\u001B[38;5;241m.\u001B[39mdiag(rest_cov))\n\u001B[1;32m     56\u001B[0m y_max \u001B[38;5;241m=\u001B[39m \u001B[38;5;28mmax\u001B[39m(observed_ys)\n\u001B[0;32m---> 58\u001B[0m PI_values \u001B[38;5;241m=\u001B[39m \u001B[43macquisition_function_PI\u001B[49m\u001B[43m(\u001B[49m\u001B[43mrest_mu\u001B[49m\u001B[43m,\u001B[49m\u001B[43m \u001B[49m\u001B[43mrest_std\u001B[49m\u001B[43m,\u001B[49m\u001B[43m \u001B[49m\u001B[43my_max\u001B[49m\u001B[43m)\u001B[49m\n\u001B[1;32m     60\u001B[0m \u001B[38;5;66;03m# select alpha with max PI\u001B[39;00m\n\u001B[1;32m     61\u001B[0m max_PI_index \u001B[38;5;241m=\u001B[39m np\u001B[38;5;241m.\u001B[39margmax(PI_values)\n",
      "Cell \u001B[0;32mIn[10], line 28\u001B[0m, in \u001B[0;36macquisition_function_PI\u001B[0;34m(mu, sigma, y_max)\u001B[0m\n\u001B[1;32m     26\u001B[0m \u001B[38;5;28;01mwith\u001B[39;00m np\u001B[38;5;241m.\u001B[39merrstate(divide\u001B[38;5;241m=\u001B[39m\u001B[38;5;124m'\u001B[39m\u001B[38;5;124mwarn\u001B[39m\u001B[38;5;124m'\u001B[39m):\n\u001B[1;32m     27\u001B[0m     Z \u001B[38;5;241m=\u001B[39m (mu \u001B[38;5;241m-\u001B[39m y_max) \u001B[38;5;241m/\u001B[39m sigma\n\u001B[0;32m---> 28\u001B[0m     PI_values \u001B[38;5;241m=\u001B[39m \u001B[43mnorm\u001B[49m\u001B[38;5;241m.\u001B[39mcdf(Z)\n\u001B[1;32m     29\u001B[0m \u001B[38;5;28;01mreturn\u001B[39;00m PI_values\n",
      "\u001B[0;31mNameError\u001B[0m: name 'norm' is not defined"
     ]
    }
   ],
   "execution_count": 10
  },
  {
   "metadata": {},
   "cell_type": "markdown",
   "source": [
    "# What next?\n",
    "Try to improve regression performance beyond the methods we have tried so far. Explain what you tried, why you thought it might work better, how you evaluated your idea, and what you found.\n",
    "\n",
    "Do not write more than 300 words for this part, not including your code (which you do need to include). The bulk of the marks available for this part are for motivating and trying something sensible, which can be simple, and evaluating it sensibly.\n",
    "\n"
   ],
   "id": "a248f508304f9083"
  },
  {
   "metadata": {
    "ExecuteTime": {
     "end_time": "2024-11-17T20:54:28.657277Z",
     "start_time": "2024-11-17T17:59:05.433603Z"
    }
   },
   "cell_type": "code",
   "source": [
    "# Two layers\n",
    "from scipy.stats import norm\n",
    "\n",
    "def nn_cost_two_layers(params, X, yy=None, alpha=None):\n",
    "    \"\"\"\n",
    "    Neural network cost function with two hidden layers.\n",
    "    \"\"\"\n",
    "    W2, b2, W1, b1, V, bk = params\n",
    "\n",
    "    # Forward pass\n",
    "    A1 = np.dot(X, V.T) + bk[None, :]\n",
    "    P1 = 1 / (1 + np.exp(-A1))\n",
    "\n",
    "    # First hidden layer to second hidden layer\n",
    "    A2 = np.dot(P1, W1.T) + b1[None, :]\n",
    "    P2 = 1 / (1 + np.exp(-A2))\n",
    "\n",
    "    # Second hidden layer to output\n",
    "    F = np.dot(P2, W2) + b2  # (N,)\n",
    "    \n",
    "    if yy is None:\n",
    "        return F\n",
    "\n",
    "    # Compute residuals and loss\n",
    "    res = F - yy\n",
    "    E = np.dot(res, res) + alpha * (np.sum(V * V) + np.sum(W1 * W1) + np.sum(W2 * W2))\n",
    "\n",
    "    # Backward pass\n",
    "    F_bar = 2 * res\n",
    "    W2_bar = np.dot(P2.T, F_bar) + 2 * alpha * W2\n",
    "    b2_bar = np.sum(F_bar)\n",
    "\n",
    "    P2_bar = np.dot(F_bar[:, None], W2[None, :])\n",
    "    A2_bar = P2_bar * P2 * (1 - P2)\n",
    "    W1_bar = np.dot(A2_bar.T, P1) + 2 * alpha * W1\n",
    "    b1_bar = np.sum(A2_bar, axis=0)\n",
    "\n",
    "    P1_bar = np.dot(A2_bar, W1)\n",
    "    A1_bar = P1_bar * P1 * (1 - P1)\n",
    "    V_bar = np.dot(A1_bar.T, X) + 2 * alpha * V\n",
    "    bk_bar = np.sum(A1_bar, axis=0)\n",
    "\n",
    "    return E, (W2_bar, b2_bar, W1_bar, b1_bar, V_bar, bk_bar)\n"
   ],
   "id": "a311300673beea42",
   "outputs": [],
   "execution_count": 19
  },
  {
   "metadata": {
    "ExecuteTime": {
     "end_time": "2024-11-17T20:54:28.657506Z",
     "start_time": "2024-11-17T17:59:02.939643Z"
    }
   },
   "cell_type": "code",
   "outputs": [],
   "source": [
    "# Glorot Initialization\n",
    "def glorot_init(n_in, n_out):\n",
    "    limit = np.sqrt(6 / (n_in + n_out))\n",
    "    return np.random.uniform(-limit, limit, size=(n_out, n_in))\n",
    "\n",
    "def init_nn_parameters_two_layers(D, K1, K2):\n",
    "    \"\"\"\n",
    "    Initialize parameters for a two-hidden-layer neural network.\n",
    "    D: Input dimension.\n",
    "    K1: Number of units in the first hidden layer.\n",
    "    K2: Number of units in the second hidden layer.\n",
    "    \"\"\"\n",
    "    V = glorot_init(D, K1)\n",
    "    bk = np.zeros(K1)\n",
    "    W1 = glorot_init(K1, K2)\n",
    "    b1 = np.zeros(K2)\n",
    "    W2 = glorot_init(K2, 1).flatten() \n",
    "    b2 = 0.0\n",
    "\n",
    "    return [W2, b2, W1, b1, V, bk]\n",
    "\n",
    "def train_nn_reg(alpha, X_train, y_train, X_val, y_val):\n",
    "    D = X_train.shape[1]\n",
    "    K1 = 20\n",
    "    K2 = 10\n",
    "    params_init = init_nn_parameters_two_layers(D, K1, K2)\n",
    "    params_opt_glorot = minimize_list(nn_cost_two_layers, params_init, args=(X_train, y_train, alpha))\n",
    "\n",
    "    y_val_pred = nn_cost_two_layers(params_opt_glorot, X_val)\n",
    "\n",
    "    rmse_val_glorot = rmse(y_val, y_val_pred)\n",
    "\n",
    "    return rmse_val_glorot\n",
    "\n",
    "def acquisition_function_PI(mu, sigma, y_max):\n",
    "    with np.errstate(divide='warn'):\n",
    "        Z = (mu - y_max) / sigma\n",
    "        PI_values = norm.cdf(Z)\n",
    "    return PI_values"
   ],
   "id": "34938964f5a499ba",
   "execution_count": null
  },
  {
   "metadata": {
    "ExecuteTime": {
     "end_time": "2024-11-17T20:54:28.657555Z",
     "start_time": "2024-11-17T16:28:50.298911Z"
    }
   },
   "cell_type": "code",
   "source": [
    "baseline_rmse = rmse(F_val, y_val) # Calculated in Q4\n",
    "baseline_log_rmse = np.log(baseline_rmse)\n",
    "\n",
    "# initial observation negative log RMSE\n",
    "np.random.seed(42)\n",
    "initial_alphas = np.random.choice(np.arange(0, 50, 0.2), size=3, replace=False)\n",
    "initial_log_rmses = [np.log(train_nn_reg(alpha, X_train, y_train, X_val, y_val)) for alpha in initial_alphas]\n",
    "initial_y = baseline_log_rmse - np.array(initial_log_rmses)\n",
    "\n",
    "print(\"Initial alphas and observed log RMSE differences (y values):\")\n",
    "for alpha, y in zip(initial_alphas, initial_y):\n",
    "    print(f\"alpha = {alpha}, y = {y}\")\n",
    "\n",
    "remaining_alphas = np.setdiff1d(np.arange(0, 50, 0.2), initial_alphas)\n",
    "rest_mu, rest_cov = gp_post_par(remaining_alphas, initial_alphas, initial_y)\n",
    "\n",
    "best_alpha = None\n",
    "best_rmse = float('inf')\n",
    "observed_alphas = list(initial_alphas)\n",
    "observed_ys = list(initial_y)\n",
    "\n",
    "for iteration in range(5):\n",
    "    # get std from posterior\n",
    "    rest_std = np.sqrt(np.diag(rest_cov))\n",
    "\n",
    "    y_max = max(observed_ys)\n",
    "\n",
    "    PI_values = acquisition_function_PI(rest_mu, rest_std, y_max)\n",
    "\n",
    "    # select alpha with max PI\n",
    "    max_PI_index = np.argmax(PI_values)\n",
    "    next_alpha = remaining_alphas[max_PI_index]\n",
    "    max_PI = PI_values[max_PI_index]\n",
    "    \n",
    "    # train_nn_reg on next alpha\n",
    "    next_rmse = train_nn_reg(next_alpha, X_train, y_train, X_val, y_val)\n",
    "    next_log_rmse = np.log(next_rmse)\n",
    "    next_y = baseline_log_rmse - next_log_rmse\n",
    "    \n",
    "    # update observed alphas and ys\n",
    "    observed_alphas.append(next_alpha)\n",
    "    observed_ys.append(next_y)\n",
    "    \n",
    "    # transform to numpy arrays\n",
    "    observed_alphas_np = np.array(observed_alphas)\n",
    "    observed_ys_np = np.array(observed_ys)\n",
    "    \n",
    "    # update GP posterior\n",
    "    rest_mu, rest_cov = gp_post_par(remaining_alphas, observed_alphas_np, observed_ys_np)\n",
    "    \n",
    "    print(f\"Iteration {iteration + 1}: max PI = {max_PI}, alpha = {next_alpha}, rmse = {next_rmse}\")\n",
    "    \n",
    "    # update best alpha\n",
    "    if next_rmse < best_rmse:\n",
    "        best_rmse = next_rmse\n",
    "        best_alpha = next_alpha\n",
    "\n",
    "print(\"\\nBest alpha found:\", best_alpha)\n",
    "print(\"Validation RMSE with best alpha:\", best_rmse)\n",
    "\n",
    "rmse_test = train_nn_reg(best_alpha, X_train, y_train, X_test, y_test)\n",
    "print(\"Test RMSE with best alpha:\", rmse_test)"
   ],
   "id": "aad080635716c46e",
   "outputs": [
    {
     "name": "stdout",
     "output_type": "stream",
     "text": [
      "Initial alphas and observed log RMSE differences (y values):\n",
      "alpha = 28.400000000000002, y = -0.006406038788520307\n",
      "alpha = 1.2000000000000002, y = 0.135990854772851\n",
      "alpha = 19.400000000000002, y = 0.03992288274228861\n",
      "Iteration 1: max PI = 0.271691650957655, alpha = 1.6, rmse = 0.2426506432441637\n",
      "Iteration 2: max PI = 0.2080641174035316, alpha = 0.0, rmse = 0.26489204754618473\n",
      "Iteration 3: max PI = 0.24296947738974378, alpha = 5.2, rmse = 0.24070624733652793\n",
      "Iteration 4: max PI = 0.18729084654425687, alpha = 5.4, rmse = 0.22918908313792613\n",
      "Iteration 5: max PI = 0.16429079408506558, alpha = 7.0, rmse = 0.23162292253987649\n",
      "\n",
      "Best alpha found: 5.4\n",
      "Validation RMSE with best alpha: 0.22918908313792613\n",
      "Test RMSE with best alpha: 0.2750415925496988\n"
     ]
    }
   ],
   "execution_count": 17
  },
  {
   "metadata": {},
   "cell_type": "code",
   "outputs": [],
   "execution_count": null,
   "source": "",
   "id": "7795bb6bcceb89fe"
  },
  {
   "metadata": {
    "ExecuteTime": {
     "end_time": "2024-11-17T20:54:28.657643Z",
     "start_time": "2024-11-17T17:59:13.799895Z"
    }
   },
   "cell_type": "code",
   "source": [
    "# multi-parameters\n",
    "from scipy.linalg import cho_factor, cho_solve\n",
    "\n",
    "def gp_post_par(X_rest, X_obs, yy, sigma_y=0.05, ell=5.0, sigma_f=1.0):\n",
    "    K_rest = gauss_kernel_fn(X_rest, X_rest, ell, sigma_f)\n",
    "    K_rest_obs = gauss_kernel_fn(X_rest, X_obs, ell, sigma_f)\n",
    "    K_obs = gauss_kernel_fn(X_obs, X_obs, ell, sigma_f)\n",
    "    M = K_obs + sigma_y**2 * np.eye(len(yy))\n",
    "\n",
    "    # Cholesky decomposition\n",
    "    M_cho, M_low = cho_factor(M)\n",
    "\n",
    "    # Posterior mean\n",
    "    rest_cond_mu = np.dot(K_rest_obs, cho_solve((M_cho, M_low), yy))\n",
    "\n",
    "    # Posterior covariance\n",
    "    rest_cond_cov = K_rest - np.dot(K_rest_obs, cho_solve((M_cho, M_low), K_rest_obs.T))\n",
    "\n",
    "    return rest_cond_mu, rest_cond_cov\n",
    "\n",
    "\n",
    "def train_nn_reg(alpha, K1, K2, X_train, y_train, X_val, y_val):\n",
    "    D = X_train.shape[1]\n",
    "    params_init = init_nn_parameters_two_layers(D, K1, K2)\n",
    "    params_opt_glorot = minimize_list(nn_cost_two_layers, params_init, args=(X_train, y_train, alpha))\n",
    "\n",
    "    y_val_pred = nn_cost_two_layers(params_opt_glorot, X_val)\n",
    "\n",
    "    rmse_val_glorot = rmse(y_val, y_val_pred)\n",
    "\n",
    "    return rmse_val_glorot\n"
   ],
   "id": "e98a07ca60b7dc3c",
   "outputs": [],
   "execution_count": 20
  },
  {
   "metadata": {
    "ExecuteTime": {
     "end_time": "2024-11-17T20:54:28.657673Z",
     "start_time": "2024-11-17T17:59:14.453234Z"
    }
   },
   "cell_type": "code",
   "source": [
    "# Initial observations: Randomly select 3 parameter combinations\n",
    "np.random.seed(42)\n",
    "D = X_train.shape[1]\n",
    "\n",
    "initial_params = np.array([\n",
    "    [10, 60, 10],  # (alpha, K1, K2)\n",
    "    [15, 25, 15],\n",
    "    [20, 30, 20]\n",
    "])\n",
    "initial_ys = np.array([\n",
    "    train_nn_reg(alpha, K1, K2, X_train, y_train, X_val, y_val)\n",
    "    for alpha, K1, K2 in initial_params\n",
    "])\n",
    "\n",
    "# Remaining parameter combinations to evaluate\n",
    "param_grid = np.array([[a, k1, k2] for a in np.arange(0, 50, 5)\n",
    "                                     for k1 in np.arange(50, 100, 5)\n",
    "                                     for k2 in np.arange(5, 25, 5)])\n",
    "remaining_params = np.array([p for p in param_grid if list(p) not in initial_params.tolist()])\n",
    "\n",
    "# Initialize GP\n",
    "observed_params = initial_params\n",
    "observed_ys = initial_ys\n",
    "\n",
    "for iteration in range(5):\n",
    "    # GP posterior\n",
    "    mu, cov = gp_post_par(remaining_params, observed_params, observed_ys)\n",
    "\n",
    "    # Compute standard deviation\n",
    "    sigma = np.sqrt(np.diag(cov))\n",
    "\n",
    "    # Current best observed value\n",
    "    y_max = np.max(observed_ys)\n",
    "\n",
    "    # Acquisition function: Probability of Improvement (PI)\n",
    "    PI_values = acquisition_function_PI(mu, sigma, y_max)\n",
    "\n",
    "    # Select next parameters to evaluate (maximizing PI)\n",
    "    next_index = np.argmax(PI_values)\n",
    "    next_params = remaining_params[next_index]\n",
    "\n",
    "    print(f\"Iteration {iteration + 1}: Testing parameters {next_params}\")\n",
    "\n",
    "    # Evaluate model\n",
    "    next_rmse = train_nn_reg(next_params[0], next_params[1], next_params[2],\n",
    "                             X_train, y_train, X_val, y_val)\n",
    "\n",
    "    # Update observations\n",
    "    observed_params = np.vstack([observed_params, next_params])\n",
    "    observed_ys = np.append(observed_ys, next_rmse)\n",
    "\n",
    "    # Remove selected point from remaining parameters\n",
    "    remaining_params = np.delete(remaining_params, next_index, axis=0)\n",
    "\n",
    "# Best parameters\n",
    "best_index = np.argmin(observed_ys)\n",
    "best_params = observed_params[best_index]\n",
    "print(\"\\nBest parameters found:\")\n",
    "print(f\"alpha = {best_params[0]}, K1 = {best_params[1]}, K2 = {best_params[2]}\")\n",
    "print(\"Validation RMSE:\", observed_ys[best_index])\n",
    "\n",
    "# Final test evaluation\n",
    "rmse_test = train_nn_reg(best_params[0], best_params[1], best_params[2],\n",
    "                         X_train, y_train, X_test, y_test)\n",
    "print(\"Test RMSE with best parameters:\", rmse_test)\n"
   ],
   "id": "834206935930fa23",
   "outputs": [
    {
     "name": "stdout",
     "output_type": "stream",
     "text": [
      "Iteration 1: Testing parameters [10 55 10]\n",
      "Iteration 2: Testing parameters [15 55 10]\n",
      "Iteration 3: Testing parameters [15 60 10]\n",
      "Iteration 4: Testing parameters [15 55 15]\n",
      "Iteration 5: Testing parameters [15 60 15]\n",
      "\n",
      "Best parameters found:\n",
      "alpha = 15, K1 = 25, K2 = 15\n",
      "Validation RMSE: 0.2515958101037228\n",
      "Test RMSE with best parameters: 0.2842785473090928\n"
     ]
    }
   ],
   "execution_count": 22
  },
  {
   "metadata": {},
   "cell_type": "code",
   "outputs": [],
   "execution_count": null,
   "source": "",
   "id": "74c25cd42d9cd305"
  },
  {
   "metadata": {},
   "cell_type": "code",
   "outputs": [],
   "execution_count": null,
   "source": "",
   "id": "1321afa25744e53d"
  },
  {
   "metadata": {},
   "cell_type": "code",
   "outputs": [],
   "execution_count": null,
   "source": "",
   "id": "986ab6c7a0941a06"
  }
 ],
 "metadata": {
  "kernelspec": {
   "display_name": "Python 3",
   "language": "python",
   "name": "python3"
  },
  "language_info": {
   "codemirror_mode": {
    "name": "ipython",
    "version": 2
   },
   "file_extension": ".py",
   "mimetype": "text/x-python",
   "name": "python",
   "nbconvert_exporter": "python",
   "pygments_lexer": "ipython2",
   "version": "2.7.6"
  }
 },
 "nbformat": 4,
 "nbformat_minor": 5
}
