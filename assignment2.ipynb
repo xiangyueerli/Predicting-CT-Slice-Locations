{
 "cells": [
  {
   "metadata": {},
   "cell_type": "markdown",
   "source": "The patient IDs were removed from this version of the data, leaving 384 input features which were put in each of the ```“X_...”``` arrays. The corresponding CT scan slice location has been put in the ```“y_...”``` arrays. We shifted and scaled the ```“y_...”``` location values for the version of the data that you are using. The shift and scaling was chosen to make the training locations have zero mean and unit variance. The first 73 patients were put in the ```_train``` arrays, the next 12 in the ```_val``` arrays, and the final 12 in the ```_test``` arrays. Please use this training, validation, test split as given. **Do not shuffle the data further in this assignment.**",
   "id": "80d738e442702dbb"
  },
  {
   "metadata": {},
   "cell_type": "markdown",
   "source": "## Task 1: Get Started",
   "id": "6bcb47a17c3b9be7"
  },
  {
   "metadata": {
    "ExecuteTime": {
     "end_time": "2024-11-14T18:24:58.049771Z",
     "start_time": "2024-11-14T18:24:57.629743Z"
    }
   },
   "cell_type": "code",
   "source": [
    "import numpy as np\n",
    "data = np.load('ct_data.npz')\n",
    "X_train = data['X_train']; X_val = data['X_val']; X_test = data['X_test']\n",
    "y_train = data['y_train']; y_val = data['y_val']; y_test = data['y_test']"
   ],
   "id": "cc83d45f07a20002",
   "outputs": [],
   "execution_count": 1
  },
  {
   "metadata": {},
   "cell_type": "markdown",
   "source": "Verify that (up to numerical rounding errors) the mean of the training positions in ```y_train``` is zero. The mean of the 5,785 positions in the ```y_val``` array is not zero. Report its mean with a “standard error”, temporarily assuming that each entry is independent. For comparison, also report the mean with a standard error of the first 5,785 entries in the ```y_train```. Explain how your results demonstrate that these standard error bars do not reliably indicate what the average of locations in future CT slice data will be. Why are standard error bars misleading here?",
   "id": "8b7423faf66959d7"
  },
  {
   "metadata": {
    "ExecuteTime": {
     "end_time": "2024-11-14T18:24:58.061178Z",
     "start_time": "2024-11-14T18:24:58.056223Z"
    }
   },
   "cell_type": "code",
   "source": [
    "# Calculate mean and standard error for y_train\n",
    "y_train_mean = np.mean(y_train)\n",
    "y_train_std_error = np.std(y_train, ddof=1) / np.sqrt(len(y_train))\n",
    "\n",
    "# Calculate mean and standard error for the first 5,785 entries in y_train\n",
    "y_train_sample_mean = np.mean(y_train[:5785])\n",
    "y_train_sample_std_error = np.std(y_train[:5785], ddof=1) / np.sqrt(5785)\n",
    "\n",
    "# Calculate mean and standard error for y_val\n",
    "y_val_mean = np.mean(y_val)\n",
    "y_val_std_error = np.std(y_val, ddof=1) / np.sqrt(len(y_val))\n",
    "\n",
    "y_train_mean, y_train_std_error, y_train_sample_mean, y_train_sample_std_error, y_val_mean, y_val_std_error"
   ],
   "id": "57108587bc884c50",
   "outputs": [
    {
     "data": {
      "text/plain": [
       "(-9.13868774539957e-15,\n",
       " 0.0049535309340638205,\n",
       " -0.44247687859693674,\n",
       " 0.011927303389170828,\n",
       " -0.2160085093241599,\n",
       " 0.01290449880016868)"
      ]
     },
     "execution_count": 2,
     "metadata": {},
     "output_type": "execute_result"
    }
   ],
   "execution_count": 2
  },
  {
   "metadata": {},
   "cell_type": "markdown",
   "source": [
    "Some of the input features are constants: they take on the same value for every training example. Identify these features, and remove them from the input matrices in the training, validation, and testing sets.\n",
    "\n",
    "Moreover, some of the input features are duplicates: some of the columns in the training set are identical. For each training set column, discard any later columns that are identical. Discard the same columns from the validation and testing sets.\n",
    "\n",
    "**Use these modified input arrays for the rest of the assignment.** Keep the names of the arrays the same (X_train, etc.), so we know what they’re called. You should not duplicate the code from this part in future questions. We will assume it has been run, and that the modified data are available.\n",
    "\n",
    "**Warning: As in the real world, mistakes at this stage would invalidate all of your results. We strongly recommend checking your code, for example on small test examples where you can see what it’s doing.**\n",
    "\n",
    "Report which columns of the X_... arrays you remove at each of the two stages. Report these as 0-based indexes. (For the second stage, you might report indexes in the original array, or after you did the first stage. It doesn’t matter, as long as your code is clear and correct.)"
   ],
   "id": "4d17bcaf6c45c429"
  },
  {
   "metadata": {
    "ExecuteTime": {
     "end_time": "2024-11-14T18:24:58.469813Z",
     "start_time": "2024-11-14T18:24:58.094692Z"
    }
   },
   "cell_type": "code",
   "source": [
    "# Step 1: Identify and remove constant columns\n",
    "constant_columns = [i for i in range(X_train.shape[1]) if np.all(X_train[:, i] == X_train[0, i])]\n",
    "X_train = np.delete(X_train, constant_columns, axis=1)\n",
    "X_val = np.delete(X_val, constant_columns, axis=1)\n",
    "X_test = np.delete(X_test, constant_columns, axis=1)\n",
    "\n",
    "# Step 2: Identify and remove duplicate columns\n",
    "_, unique_indices = np.unique(X_train, axis=1, return_index=True)\n",
    "duplicate_columns = [i for i in range(X_train.shape[1]) if i not in unique_indices]\n",
    "X_train = np.delete(X_train, duplicate_columns, axis=1)\n",
    "X_val = np.delete(X_val, duplicate_columns, axis=1)\n",
    "X_test = np.delete(X_test, duplicate_columns, axis=1)\n",
    "\n",
    "# Report columns removed in each stage\n",
    "print(\"Constant columns removed:\", constant_columns)\n",
    "print(\"Duplicate columns removed:\", duplicate_columns)"
   ],
   "id": "d70de25576b49fa7",
   "outputs": [
    {
     "name": "stdout",
     "output_type": "stream",
     "text": [
      "Constant columns removed: [59, 69, 179, 189, 351]\n",
      "Duplicate columns removed: [76, 77, 185, 195, 283, 354]\n"
     ]
    }
   ],
   "execution_count": 3
  },
  {
   "metadata": {},
   "cell_type": "markdown",
   "source": [
    "# Task 2: Linear Regression Baseline\n",
    "Using ```numpy.linalg.lstsq```, write a short function “fit_linreg(X, yy, alpha)” that fits the linear regression model\n",
    "$$f(\\b x;\\b w,b) = \\b w^\\top\\b x + b,$$\n",
    "by minimizing the cost function:\n",
    "$$E(\\b w, b) = \\alpha\\b w^\\top\\b w + \\sum_n (f(\\b x^{(n)};\\b w,b) - y^{(n)})^2,$$\n",
    "with regularization constant $\\alpha$. As discussed in the lecture materials, fitting a bias parameter $b$ and incorporating the regularization constant can both be achieved by augmenting the original data arrays. Use a data augmentation approach that maintains the numerical stability of the underlying ```lstsq``` solver, rather than a ‘normal equations’ approach. You should only regularize the weights $\\textbf{w}$ and not the bias $b$.\n",
    "\n",
    "(In the lecture materials we used $\\lambda$ for the regularization constant, matching Murphy and others. However, lambda is a reserved word in Python, so we swapped to ```alpha``` for our code.)\n",
    "\n",
    "Use your function to fit weights and a bias to ```X_train``` and ```y_train```. Use $\\alpha = 30$.\n",
    "\n",
    "We can fit the same model with a gradient-based optimizer. The support code has a function ```fit_linreg_gradopt```, which you should look at and try.\n",
    "\n",
    "Report the root-mean-square errors (RMSE) on the training and validation sets for the parameters fitted using both your ```fit_linreg``` and the provided ```fit_linreg_gradopt```. Do you get exactly the same results? Why or why not?"
   ],
   "id": "6d38b97189a563d7"
  },
  {
   "metadata": {
    "ExecuteTime": {
     "end_time": "2024-11-14T18:24:58.480581Z",
     "start_time": "2024-11-14T18:24:58.477343Z"
    }
   },
   "cell_type": "code",
   "source": [
    "def fit_linreg(X, yy, alpha):\n",
    "    N, D = X.shape\n",
    "    \n",
    "    # construct phi\n",
    "    phi = np.concatenate([X, np.ones((N, 1))], axis=1) \n",
    "    identity_matrix = np.eye(D + 1)\n",
    "    identity_matrix[-1, -1] = 0\n",
    "    phi = np.concatenate([phi, np.sqrt(alpha) * identity_matrix])\n",
    "    \n",
    "    # construct Y\n",
    "    Y = np.concatenate([yy, np.zeros(D + 1)])\n",
    "    \n",
    "    w = np.linalg.lstsq(phi, Y[:, np.newaxis], rcond=None)[0]\n",
    "    \n",
    "    return w[:-1, 0], w[-1, 0]\n",
    "\n",
    "def rmse(pred, yy):\n",
    "    return np.sqrt(np.mean((pred - yy) ** 2))"
   ],
   "id": "ff68c9e975e4f7ea",
   "outputs": [],
   "execution_count": 4
  },
  {
   "metadata": {
    "ExecuteTime": {
     "end_time": "2024-11-14T18:25:00.074931Z",
     "start_time": "2024-11-14T18:24:58.487372Z"
    }
   },
   "cell_type": "code",
   "source": [
    "# use lstsq\n",
    "w, b = fit_linreg(X_train, y_train, alpha=30)\n",
    "\n",
    "pred_train = X_train @ w + b\n",
    "pred_val = X_val @ w + b\n",
    "\n",
    "rmse_train_lst = rmse(pred_train, y_train)\n",
    "rmse_val_lst = rmse(pred_val, y_val)\n",
    "rmse_train_lst, rmse_val_lst"
   ],
   "id": "a4194e3e1639fe73",
   "outputs": [
    {
     "data": {
      "text/plain": [
       "(0.3567565397204054, 0.4230521968394695)"
      ]
     },
     "execution_count": 5,
     "metadata": {},
     "output_type": "execute_result"
    }
   ],
   "execution_count": 5
  },
  {
   "metadata": {
    "ExecuteTime": {
     "end_time": "2024-11-14T18:25:02.989299Z",
     "start_time": "2024-11-14T18:25:00.182897Z"
    }
   },
   "cell_type": "code",
   "source": [
    "# use grad\n",
    "from support_code import *\n",
    "ww, bb = fit_linreg_gradopt(X_train, y_train, alpha=30)\n",
    "\n",
    "pred_train = X_train @ ww + b\n",
    "pred_val = X_val @ ww + b\n",
    "\n",
    "rmse_train_gd = rmse(pred_train, y_train)\n",
    "rmse_val_gd = rmse(pred_val, y_val)\n",
    "rmse_train_gd, rmse_val_gd"
   ],
   "id": "80a988914e1ca8ac",
   "outputs": [
    {
     "data": {
      "text/plain": [
       "(0.3567561016332041, 0.4230114312756827)"
      ]
     },
     "execution_count": 6,
     "metadata": {},
     "output_type": "execute_result"
    }
   ],
   "execution_count": 6
  },
  {
   "metadata": {},
   "cell_type": "markdown",
   "source": "# Task 3: Invented classification tasks",
   "id": "fd461284c017b153"
  },
  {
   "metadata": {},
   "cell_type": "markdown",
   "source": [
    "It is often easier to work with binary data than real-valued data: we don’t have to think so hard about how the values might be distributed, and how we might process them. We will invent some binary classification tasks, and fit these.\n",
    "\n",
    "We will pick 20 positions within the range of training positions, and use each of these to define a classification task:"
   ],
   "id": "8c395d22b7929952"
  },
  {
   "metadata": {
    "ExecuteTime": {
     "end_time": "2024-11-14T18:25:03.019289Z",
     "start_time": "2024-11-14T18:25:03.013142Z"
    }
   },
   "cell_type": "code",
   "source": [
    "K = 20 # number of thresholded classification problems to fit\n",
    "mx = np.max(y_train); mn = np.min(y_train); hh = (mx-mn)/(K+1)\n",
    "thresholds = np.linspace(mn+hh, mx-hh, num=K, endpoint=True)\n",
    "for kk in range(K):\n",
    "    labels = y_train > thresholds[kk]\n",
    "    # ... fit logistic regression to these labels"
   ],
   "id": "d2e2bc44ef4aaa2c",
   "outputs": [],
   "execution_count": 7
  },
  {
   "metadata": {},
   "cell_type": "markdown",
   "source": [
    "The logistic regression cost function and gradients are provided with the assignment in the function ```logreg_cost```. It is analogous to the ```linreg_cost``` function for least-squares regression, which is used by the ```fit_linreg_gradopt``` function that you used earlier.\n",
    "\n",
    "Fit logistic regression to each of the 20 classification tasks above with $\\alpha=30$\n",
    ".\n",
    "\n",
    "Given a feature vector, we can now obtain 20 different probabilities, the predictions of the 20 logistic regression models. Transform both the training and validation input matrices into new matrices with 20 columns, containing the probabilities from the 20 logistic regression models. You don’t need to loop over the rows of ```X_train``` or ```X_val```, you can use array-based operations to make the logistic regression predictions for every datapoint at once.\n",
    "\n",
    "Fit a regularized linear regression model ($\\alpha=30$) to your transformed 20-dimensional training set. Report the training and validation root mean square errors (RMSE) of this model."
   ],
   "id": "bd34228d3979120d"
  },
  {
   "metadata": {
    "ExecuteTime": {
     "end_time": "2024-11-14T18:25:03.045259Z",
     "start_time": "2024-11-14T18:25:03.039825Z"
    }
   },
   "cell_type": "code",
   "source": [
    "def fit_logreg_gradopt(X, yy, alpha):\n",
    "    \"\"\"\n",
    "    Fit a regularized logistic regression model using gradient optimization.\n",
    "    \"\"\"\n",
    "    D = X.shape[1]\n",
    "    args = (X, yy, alpha)\n",
    "    init = (np.zeros(D), np.array(0))\n",
    "    w_logreg, b_logreg = minimize_list(logreg_cost, init, args)\n",
    "    return w_logreg, b_logreg"
   ],
   "id": "ccb7c0a83002863b",
   "outputs": [],
   "execution_count": 8
  },
  {
   "metadata": {
    "ExecuteTime": {
     "end_time": "2024-11-14T18:25:03.068361Z",
     "start_time": "2024-11-14T18:25:03.062119Z"
    }
   },
   "cell_type": "code",
   "source": [
    "def logreg_k(X, yy, K, alpha=30):\n",
    "    \"\"\"\n",
    "    Trains K binary logistic regression models on data using different threshold-based label splits.\n",
    "    \"\"\"\n",
    "    mx = np.max(yy); mn = np.min(yy); hh = (mx-mn)/(K+1)\n",
    "    thresholds = np.linspace(mn+hh, mx-hh, num=K, endpoint=True)\n",
    "    \n",
    "    # weights and biases for the K logistic regression models\n",
    "    w_logreg_k = np.zeros((K, X_train.shape[1]))\n",
    "    b_logreg_k = np.zeros((K))\n",
    "    \n",
    "    for kk in range(K):\n",
    "        # get binary training labels based on thresholds[kk]\n",
    "        labels = yy > thresholds[kk]\n",
    "        \n",
    "        w_logreg, b_logreg = fit_logreg_gradopt(X, labels, alpha)\n",
    "        \n",
    "        w_logreg_k[kk, :] = w_logreg\n",
    "        b_logreg_k[kk] = b_logreg\n",
    "    \n",
    "    return w_logreg_k, b_logreg_k"
   ],
   "id": "3bb221cddf61f10f",
   "outputs": [],
   "execution_count": 9
  },
  {
   "metadata": {
    "ExecuteTime": {
     "end_time": "2024-11-14T18:25:11.571788Z",
     "start_time": "2024-11-14T18:25:03.096228Z"
    }
   },
   "cell_type": "code",
   "source": [
    "def sigma(a):\n",
    "    return 1 / (1 + np.exp(-a))\n",
    "\n",
    "K = 20 # number of thresholded classification problems to fit\n",
    "\n",
    "# Transform both the training and validation input matrices into new matrices with K columns\n",
    "w_logreg_k, b_logreg_k = logreg_k(X_train, y_train, K)\n",
    "X_train_new = sigma(X_train @ w_logreg_k.T + b_logreg_k)\n",
    "X_val_new = sigma(X_val @ w_logreg_k.T + b_logreg_k)\n",
    "\n",
    "np.sum(X_train_new, axis=0), np.sum(X_val_new, axis=0), X_train_new, X_val_new"
   ],
   "id": "51371b7188ae96b",
   "outputs": [
    {
     "data": {
      "text/plain": [
       "(array([40047.99959223, 38424.00087396, 36789.03361221, 35155.00098873,\n",
       "        32969.95573317, 29150.98262565, 25498.04349378, 22587.02437339,\n",
       "        20035.04484011, 17485.02854007, 15020.99369934, 12809.0833263 ,\n",
       "        11068.03136158,  9460.95241151,  7861.98690246,  6262.99878295,\n",
       "         4662.0208563 ,  3064.99916823,  1461.99531663,   270.99939589]),\n",
       " array([5596.84695888, 5267.53315041, 5002.37270799, 4691.26128097,\n",
       "        4248.87686741, 3592.11305488, 3097.94446818, 2642.39321908,\n",
       "        2260.93868824, 1868.48505716, 1574.11959566, 1375.25140825,\n",
       "        1202.7425488 ,  993.36142465,  747.87863552,  658.83042942,\n",
       "         516.83226281,  303.1882229 ,  152.15405267,   19.56834674]),\n",
       " array([[9.99919980e-01, 9.96026867e-01, 9.67205666e-01, ...,\n",
       "         1.21649260e-05, 5.10796251e-05, 4.90089315e-04],\n",
       "        [9.99917091e-01, 9.95984594e-01, 9.64214471e-01, ...,\n",
       "         1.53870327e-05, 6.76737294e-05, 6.43990447e-04],\n",
       "        [9.99905325e-01, 9.96471771e-01, 9.70044306e-01, ...,\n",
       "         1.38034737e-05, 6.58848097e-05, 6.76305172e-04],\n",
       "        ...,\n",
       "        [9.99939642e-01, 9.99869875e-01, 9.99902151e-01, ...,\n",
       "         4.56353308e-04, 1.27949556e-04, 2.62021829e-04],\n",
       "        [9.99794369e-01, 9.99680623e-01, 9.99882384e-01, ...,\n",
       "         7.01577998e-03, 1.27213610e-03, 7.53799902e-04],\n",
       "        [9.99841970e-01, 9.99653001e-01, 9.99883200e-01, ...,\n",
       "         3.86843017e-03, 6.88788566e-04, 5.51860332e-04]]),\n",
       " array([[9.99245277e-01, 9.99159543e-01, 9.98884802e-01, ...,\n",
       "         2.32697760e-02, 4.58020682e-02, 2.25479608e-02],\n",
       "        [9.99249022e-01, 9.98928490e-01, 9.98246857e-01, ...,\n",
       "         1.34899467e-02, 2.67375707e-02, 1.37355926e-02],\n",
       "        [9.99587266e-01, 9.99422210e-01, 9.99341119e-01, ...,\n",
       "         1.24147467e-03, 1.26318305e-03, 1.89211543e-03],\n",
       "        ...,\n",
       "        [9.99573766e-01, 9.99806924e-01, 9.94303872e-01, ...,\n",
       "         1.34750577e-02, 1.07857207e-03, 1.01216790e-03],\n",
       "        [9.99492926e-01, 9.99762778e-01, 9.98929358e-01, ...,\n",
       "         4.04137316e-02, 7.06098932e-03, 7.74882048e-04],\n",
       "        [9.99761063e-01, 9.99832223e-01, 9.99860244e-01, ...,\n",
       "         4.74959894e-05, 2.58307012e-05, 4.23605059e-05]]))"
      ]
     },
     "execution_count": 10,
     "metadata": {},
     "output_type": "execute_result"
    }
   ],
   "execution_count": 10
  },
  {
   "metadata": {
    "ExecuteTime": {
     "end_time": "2024-11-14T18:25:11.731097Z",
     "start_time": "2024-11-14T18:25:11.610001Z"
    }
   },
   "cell_type": "code",
   "source": [
    "from support_code import *\n",
    "w_linreg, b_linreg = fit_linreg_gradopt(X_train_new, y_train, alpha=30)\n",
    "\n",
    "pred_train = X_train_new @ w_linreg + b_linreg\n",
    "pred_val = X_val_new @ w_linreg + b_linreg\n",
    "\n",
    "rmse_train_gd = rmse(pred_train, y_train)\n",
    "rmse_val_gd = rmse(pred_val, y_val)\n",
    "rmse_train_gd, rmse_val_gd"
   ],
   "id": "78c529feedf082e8",
   "outputs": [
    {
     "data": {
      "text/plain": [
       "(0.15441197301431134, 0.2542485967584797)"
      ]
     },
     "execution_count": 11,
     "metadata": {},
     "output_type": "execute_result"
    }
   ],
   "execution_count": 11
  },
  {
   "metadata": {},
   "cell_type": "markdown",
   "source": "# Task 4: Small neural network",
   "id": "42fa05525cc4f385"
  },
  {
   "metadata": {},
   "cell_type": "markdown",
   "source": [
    "In Question 3 you fitted a small neural network. The logistic regression classifiers are sigmoidal hidden units, and a linear output unit predicts the outputs. However, you didn’t fit the parameters jointly to the obvious least squares cost function. A least squares cost function and gradients for this neural network are implemented in the nn_cost function provided.\n",
    "\n",
    "Try fitting the neural network model to the training set, with a) a sensible random initialization of the parameters; b) the parameters initialized using the fits made in Q3.\n",
    "\n",
    "Does one initialization strategy work better than the other? Does fitting the neural network jointly work better than the procedure in Q3? Your explanation should include any numbers that your answer is based on.\n"
   ],
   "id": "281ce45609a50138"
  },
  {
   "metadata": {
    "ExecuteTime": {
     "end_time": "2024-11-14T18:25:11.765262Z",
     "start_time": "2024-11-14T18:25:11.760726Z"
    }
   },
   "cell_type": "code",
   "source": [
    "def fit_nn_gradopt(X, yy, alpha, init):\n",
    "    \"\"\"\n",
    "    Fit a regularized logistic regression model using gradient optimization.\n",
    "    \"\"\"\n",
    "    args = (X, yy, alpha)\n",
    "    # Initialization\n",
    "    ww, bb, V, bk = minimize_list(nn_cost, init, args)\n",
    "    return ww, bb, V, bk\n",
    "\n",
    "def pred_nn(X, params):\n",
    "    return nn_cost(params, X, yy=None, alpha=None)\n",
    "\n",
    "alpha = 30"
   ],
   "id": "ae776f48f5f489fb",
   "outputs": [],
   "execution_count": 12
  },
  {
   "metadata": {
    "ExecuteTime": {
     "end_time": "2024-11-14T18:25:56.759777Z",
     "start_time": "2024-11-14T18:25:11.782505Z"
    }
   },
   "cell_type": "code",
   "source": [
    "# the parameters initialized using the fits made in Q3.\n",
    "\n",
    "init = (w_linreg, b_linreg, w_logreg_k, b_logreg_k)\n",
    "params = fit_nn_gradopt(X_train, y_train, alpha, init)\n",
    "F_train = pred_nn(X_train, params)\n",
    "F_val = pred_nn(X_val, params)\n",
    "rmse(F_train, y_train), rmse(F_val, y_val)"
   ],
   "id": "9501b7be104f794",
   "outputs": [
    {
     "data": {
      "text/plain": [
       "(0.1390997200990414, 0.2690686604902916)"
      ]
     },
     "execution_count": 13,
     "metadata": {},
     "output_type": "execute_result"
    }
   ],
   "execution_count": 13
  },
  {
   "metadata": {
    "ExecuteTime": {
     "end_time": "2024-11-14T18:30:45.602287Z",
     "start_time": "2024-11-14T18:30:45.599392Z"
    }
   },
   "cell_type": "code",
   "source": [
    "def glorot_init_uniform(n_in, n_out):\n",
    "    limit = np.sqrt(6 / (n_in + n_out))\n",
    "    return (np.random.rand(n_out, n_in) * 2 - 1) * limit \n",
    "\n",
    "def init_nn_parameter_glorot_uniform(D, K):\n",
    "    \n",
    "    ww_init = glorot_init_uniform(K, 1).flatten()\n",
    "    bb_init = np.array(0)\n",
    "    V_init = glorot_init_uniform(D, K)\n",
    "    bk_init = np.zeros(K)\n",
    "    \n",
    "    init = (ww_init, bb_init, V_init, bk_init)\n",
    "    return init"
   ],
   "id": "5fc6380d107a4c6",
   "outputs": [],
   "execution_count": 20
  },
  {
   "metadata": {
    "ExecuteTime": {
     "end_time": "2024-11-14T18:31:26.858892Z",
     "start_time": "2024-11-14T18:30:45.816393Z"
    }
   },
   "cell_type": "code",
   "source": [
    "# a sensible random initialization of the parameters: glorot init uniform.\n",
    "\n",
    "init = init_nn_parameter_glorot_uniform(X_train.shape[1], K)\n",
    "params = fit_nn_gradopt(X_train, y_train, alpha, init)\n",
    "F_train = pred_nn(X_train, params)\n",
    "F_val = pred_nn(X_val, params)\n",
    "rmse(F_train, y_train), rmse(F_val, y_val)"
   ],
   "id": "aa44f567466277fc",
   "outputs": [
    {
     "data": {
      "text/plain": [
       "(0.14493131830057143, 0.27180679776567807)"
      ]
     },
     "execution_count": 21,
     "metadata": {},
     "output_type": "execute_result"
    }
   ],
   "execution_count": 21
  },
  {
   "metadata": {},
   "cell_type": "markdown",
   "source": "# Task 5: Bayesian optimisation",
   "id": "13953c46396e2ca"
  },
  {
   "metadata": {},
   "cell_type": "markdown",
   "source": [
    "A popular application area of Gaussian processes is Bayesian optimisation, where the uncertainty in the probabilistic model is used to guide the optimisation of a function. Here we will use Bayesian optimisation with Gaussian processes for choosing the regularisation parameter $\\alpha$. (We would normally use Bayesian optimisation when optimizing more than one parameter.)\n",
    "\n",
    "Gaussian processes are used to represent our belief about an unknown function. In this case, the function we are interested in is the neural network’s validation log root mean square error (log RMSE) as a function of the regularisation paramter $\\alpha$. In Bayesian optimisation, it is common to maximise the unknown function, so we will maximise the negative log RMSE.\n",
    "\n",
    "We start with a Gaussian process prior over this function. As we observe the actual log RMSEs for particular $\\alpha$’s we update our belief about the function by calculating the Gaussian process posterior.\n",
    "\n",
    "Besides the Gaussian process framework that you’re already familiar with, Bayesian optimisation involves a so-called acquisition function. Given our Gaussian process posterior model, we use this function to decide which parameter to query next. The acquisition function describes how useful we think it will be to try a given $\\alpha$, while considering the uncertainty that is represented in our posterior belief.\n",
    "\n",
    "There are many popular acquisition functions in Bayesian optimisation. One example is the probability of improvement. Suppose we have observed $y^{(1)}$ to $y^{(N)}$ (here negative log RMSE at locations $\\alpha^{(1)}$ to $\\alpha^{(N)}$). Then the function takes the following form: $$\n",
    "    \\mathit{PI}(\\alpha) = \\Phi\\left(\\frac{\\mu(\\alpha) - \\text{max}(y^{(1)},\\dots,y^{N})}{\\sigma(\\alpha)}\\right),$$ where $\\mu(\\alpha)$"
   ],
   "id": "c5e4d3a866f5bd9d"
  },
  {
   "metadata": {
    "ExecuteTime": {
     "end_time": "2024-11-14T18:26:42.228593Z",
     "start_time": "2024-11-14T18:26:42.226061Z"
    }
   },
   "cell_type": "code",
   "source": "",
   "id": "9c11df41e423d9e4",
   "outputs": [],
   "execution_count": null
  }
 ],
 "metadata": {
  "kernelspec": {
   "display_name": "Python 3",
   "language": "python",
   "name": "python3"
  },
  "language_info": {
   "codemirror_mode": {
    "name": "ipython",
    "version": 2
   },
   "file_extension": ".py",
   "mimetype": "text/x-python",
   "name": "python",
   "nbconvert_exporter": "python",
   "pygments_lexer": "ipython2",
   "version": "2.7.6"
  }
 },
 "nbformat": 4,
 "nbformat_minor": 5
}
